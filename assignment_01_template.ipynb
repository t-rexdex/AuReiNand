{
  "cells": [
    {
      "cell_type": "markdown",
      "metadata": {
        "id": "view-in-github",
        "colab_type": "text"
      },
      "source": [
        "<a href=\"https://colab.research.google.com/github/t-rexdex/AuReiNand/blob/master/assignment_01_template.ipynb\" target=\"_parent\"><img src=\"https://colab.research.google.com/assets/colab-badge.svg\" alt=\"Open In Colab\"/></a>"
      ]
    },
    {
      "cell_type": "code",
      "execution_count": null,
      "metadata": {
        "id": "96461452"
      },
      "outputs": [],
      "source": [
        "import numpy as np\n",
        "import pandas as pd\n",
        "import matplotlib.pyplot as plt\n",
        "import matplotlib\n",
        "from __future__ import division\n",
        "from sympy import *\n",
        "from sympy.solvers.solveset import linsolve"
      ],
      "id": "96461452"
    },
    {
      "cell_type": "markdown",
      "metadata": {
        "id": "6b0387cf"
      },
      "source": [
        "## Task 1 - Cross section"
      ],
      "id": "6b0387cf"
    },
    {
      "cell_type": "code",
      "execution_count": null,
      "metadata": {
        "colab": {
          "base_uri": "https://localhost:8080/",
          "height": 35
        },
        "id": "8fbd1344",
        "outputId": "befff4e3-c03e-4672-ecb0-3fc98b0f016d"
      },
      "outputs": [
        {
          "output_type": "execute_result",
          "data": {
            "application/vnd.google.colaboratory.intrinsic+json": {
              "type": "string"
            },
            "text/plain": [
              "'display(b)\\ndisplay(A)\\ndisplay(Q)\\ndisplay(I)\\n## End '"
            ]
          },
          "metadata": {},
          "execution_count": 79
        }
      ],
      "source": [
        "x, y, b_w, b_f, h, E, L, p, k, p_b, P_max, Pmin = symbols('x y b_w b_f h E L p k p_b P_max Pmin')\n",
        "C1,C2,C3,C4 = symbols('C1 C2 C3 C4')\n",
        "\n",
        "u = Function('u')\n",
        "\n",
        "## Enter your code here\n",
        "b = 2*(b_f-b_w)/h**2*y**2 + b_w/2 #half of the parabola+curve\n",
        "A= integrate(2*b, (y, -h/2, h/2))\n",
        "Q= integrate(2*b*y, (y, y,h/2))\n",
        "I= integrate(2*b*y**2,(y,-h/2, h/2)) \n",
        "\n",
        "\"\"\"\n",
        "display(b)\n",
        "display(A)\n",
        "display(Q)\n",
        "display(I)\n",
        "## End\n",
        " \"\"\"\n"
      ],
      "id": "8fbd1344"
    },
    {
      "cell_type": "markdown",
      "metadata": {
        "id": "14UT9QWsmwAm"
      },
      "source": [
        "## Task 2 - ODE"
      ],
      "id": "14UT9QWsmwAm"
    },
    {
      "cell_type": "code",
      "execution_count": null,
      "metadata": {
        "id": "7l1KL7bZmzda"
      },
      "outputs": [],
      "source": [
        "## Enter your code here\n",
        "p_b = 4*(P_max)/L #subtract pmax-pmin\n",
        "p_a = -p_b/L\n",
        "p = p_a*x**2 + p_b*x #+ Pmin \n",
        "#p = Function('p')\n",
        "ODE =  E*I*Derivative(u(x),x,x,x,x) - p\n",
        "\n",
        "## End\n"
      ],
      "id": "7l1KL7bZmzda"
    },
    {
      "cell_type": "markdown",
      "metadata": {
        "id": "4ef17469"
      },
      "source": [
        "## Task 3 - general solution"
      ],
      "id": "4ef17469"
    },
    {
      "cell_type": "code",
      "execution_count": null,
      "metadata": {
        "colab": {
          "base_uri": "https://localhost:8080/",
          "height": 94
        },
        "id": "edbcfd7b",
        "outputId": "2f1ee6fc-7036-420c-abb7-17a23b7c90fa"
      },
      "outputs": [
        {
          "output_type": "stream",
          "name": "stdout",
          "text": [
            "u=\n"
          ]
        },
        {
          "output_type": "display_data",
          "data": {
            "text/latex": "$\\displaystyle C_{1} + C_{2} x + C_{3} x^{2} + C_{4} x^{3} + \\frac{2 P_{max} x^{5}}{E L h^{3} \\left(3 b_{f} + 2 b_{w}\\right)} - \\frac{2 P_{max} x^{6}}{3 E L^{2} h^{3} \\left(3 b_{f} + 2 b_{w}\\right)}$",
            "text/plain": [
              "C1 + C2*x + C3*x**2 + C4*x**3 + 2*P_max*x**5/(E*L*h**3*(3*b_f + 2*b_w)) - 2*P_max*x**6/(3*E*L**2*h**3*(3*b_f + 2*b_w))"
            ]
          },
          "metadata": {}
        },
        {
          "output_type": "execute_result",
          "data": {
            "application/vnd.google.colaboratory.intrinsic+json": {
              "type": "string"
            },
            "text/plain": [
              "\"\\nprint('du=')\\ndisplay(du)\\n\\nprint('ddu=')\\ndisplay(ddu)\\n\\nprint('dddu=')\\ndisplay(dddu)\\n\\n\""
            ]
          },
          "metadata": {},
          "execution_count": 81
        }
      ],
      "source": [
        "\n",
        "## Enter your code here\n",
        "u=dsolve(ODE,u(x)).rhs \n",
        "\n",
        "## End\n",
        "\n",
        "du    = u.diff(x)\n",
        "ddu   = u.diff(x,x)\n",
        "dddu  = u.diff(x,x,x)\n",
        "\n",
        "print('u=')\n",
        "display(u)\n",
        "\"\"\"\n",
        "print('du=')\n",
        "display(du)\n",
        "\n",
        "print('ddu=')\n",
        "display(ddu)\n",
        "\n",
        "print('dddu=')\n",
        "display(dddu)\n",
        "\n",
        "\"\"\""
      ],
      "id": "edbcfd7b"
    },
    {
      "cell_type": "markdown",
      "metadata": {
        "id": "0edd3e25"
      },
      "source": [
        "## Task 4 - boundary conditions"
      ],
      "id": "0edd3e25"
    },
    {
      "cell_type": "code",
      "execution_count": null,
      "metadata": {
        "id": "9b09683a"
      },
      "outputs": [],
      "source": [
        "## Enter your code here\n",
        "\n",
        "bc1 = u.subs(x,0)\n",
        "bc2 = ddu.subs(x,0)\n",
        "bc3 = du.subs(x,L)\n",
        "bc4 = dddu.subs(x,L)\n",
        "\n",
        "## End"
      ],
      "id": "9b09683a"
    },
    {
      "cell_type": "markdown",
      "metadata": {
        "id": "s1mt5gFYnCiD"
      },
      "source": [
        "## Task 5 - Integration constants"
      ],
      "id": "s1mt5gFYnCiD"
    },
    {
      "cell_type": "code",
      "execution_count": null,
      "metadata": {
        "id": "o4HEIGkuK3NI",
        "colab": {
          "base_uri": "https://localhost:8080/",
          "height": 58
        },
        "outputId": "55e32b2b-6799-48dc-cf06-1025a339f3c6"
      },
      "outputs": [
        {
          "output_type": "display_data",
          "data": {
            "text/latex": "$\\displaystyle \\frac{14 L^{3} P_{max} x}{3 E b_{f} h^{3} + 2 E b_{w} h^{3}} - \\frac{20 L P_{max} x^{3}}{9 E b_{f} h^{3} + 6 E b_{w} h^{3}} + \\frac{2 P_{max} x^{5}}{E L h^{3} \\left(3 b_{f} + 2 b_{w}\\right)} - \\frac{2 P_{max} x^{6}}{3 E L^{2} h^{3} \\left(3 b_{f} + 2 b_{w}\\right)}$",
            "text/plain": [
              "14*L**3*P_max*x/(3*E*b_f*h**3 + 2*E*b_w*h**3) - 20*L*P_max*x**3/(9*E*b_f*h**3 + 6*E*b_w*h**3) + 2*P_max*x**5/(E*L*h**3*(3*b_f + 2*b_w)) - 2*P_max*x**6/(3*E*L**2*h**3*(3*b_f + 2*b_w))"
            ]
          },
          "metadata": {}
        }
      ],
      "source": [
        "## Enter your code here\n",
        "\n",
        "from sympy.solvers.solveset import linsolve # solve system of linear questions\n",
        "\n",
        "# the four bcs and four IC unknowns form a linear system of equations which can be solved\n",
        "sol=linsolve([bc1, bc2, bc3, bc4], (C1,C2,C3,C4))\n",
        "\n",
        "# then you assign the solution to the C1 to C4 variables\n",
        "[C1sol,C2sol,C3sol,C4sol] = list(sol)[0]\n",
        "## End\n",
        "\n",
        "usol= u.subs([(C1,C1sol), (C2,C2sol), (C3,C3sol), (C4,C4sol)])\n",
        "display(usol)"
      ],
      "id": "o4HEIGkuK3NI"
    },
    {
      "cell_type": "markdown",
      "metadata": {
        "id": "ZT2So-TsD8Hk"
      },
      "source": [
        "## Task 6 - define moment, shear and stress"
      ],
      "id": "ZT2So-TsD8Hk"
    },
    {
      "cell_type": "code",
      "execution_count": null,
      "metadata": {
        "id": "34bceb28",
        "colab": {
          "base_uri": "https://localhost:8080/",
          "height": 316
        },
        "outputId": "4330325b-ccb3-46eb-ff5e-ea0739eb5871"
      },
      "outputs": [
        {
          "output_type": "display_data",
          "data": {
            "text/latex": "$\\displaystyle \\frac{20 P_{max} x \\left(\\frac{b_{w} h^{3}}{12} + \\frac{h^{3} \\left(4 b_{f} - 4 b_{w}\\right)}{80}\\right) \\left(- 2 L + \\frac{2 x^{2}}{L} - \\frac{x^{3}}{L^{2}}\\right)}{h^{3} \\left(3 b_{f} + 2 b_{w}\\right)}$",
            "text/plain": [
              "20*P_max*x*(b_w*h**3/12 + h**3*(4*b_f - 4*b_w)/80)*(-2*L + 2*x**2/L - x**3/L**2)/(h**3*(3*b_f + 2*b_w))"
            ]
          },
          "metadata": {}
        },
        {
          "output_type": "display_data",
          "data": {
            "text/latex": "$\\displaystyle \\frac{40 P_{max} \\left(\\frac{b_{w} h^{3}}{12} + \\frac{h^{3} \\left(4 b_{f} - 4 b_{w}\\right)}{80}\\right) \\left(- L + \\frac{3 x^{2}}{L} - \\frac{2 x^{3}}{L^{2}}\\right)}{h^{3} \\left(3 b_{f} + 2 b_{w}\\right)}$",
            "text/plain": [
              "40*P_max*(b_w*h**3/12 + h**3*(4*b_f - 4*b_w)/80)*(-L + 3*x**2/L - 2*x**3/L**2)/(h**3*(3*b_f + 2*b_w))"
            ]
          },
          "metadata": {}
        },
        {
          "output_type": "display_data",
          "data": {
            "text/latex": "$\\displaystyle \\frac{20 P_{max} x y \\left(- 2 L + \\frac{2 x^{2}}{L} - \\frac{x^{3}}{L^{2}}\\right)}{h^{3} \\left(3 b_{f} + 2 b_{w}\\right)}$",
            "text/plain": [
              "20*P_max*x*y*(-2*L + 2*x**2/L - x**3/L**2)/(h**3*(3*b_f + 2*b_w))"
            ]
          },
          "metadata": {}
        },
        {
          "output_type": "display_data",
          "data": {
            "text/latex": "$\\displaystyle \\frac{40 P_{max} \\left(- L + \\frac{3 x^{2}}{L} - \\frac{2 x^{3}}{L^{2}}\\right) \\left(\\frac{b_{w} h^{2}}{8} - \\frac{b_{w} y^{2}}{2} + \\frac{h^{2} \\left(b_{f} - b_{w}\\right)}{16} - \\frac{y^{4} \\left(b_{f} - b_{w}\\right)}{h^{2}}\\right)}{h^{3} \\left(3 b_{f} + 2 b_{w}\\right) \\left(\\frac{b_{w}}{2} + \\frac{y^{2} \\left(2 b_{f} - 2 b_{w}\\right)}{h^{2}}\\right)}$",
            "text/plain": [
              "40*P_max*(-L + 3*x**2/L - 2*x**3/L**2)*(b_w*h**2/8 - b_w*y**2/2 + h**2*(b_f - b_w)/16 - y**4*(b_f - b_w)/h**2)/(h**3*(3*b_f + 2*b_w)*(b_w/2 + y**2*(2*b_f - 2*b_w)/h**2))"
            ]
          },
          "metadata": {}
        },
        {
          "output_type": "display_data",
          "data": {
            "text/latex": "$\\displaystyle \\frac{400 P_{max}^{2} x^{2} y^{2} \\left(- 2 L + \\frac{2 x^{2}}{L} - \\frac{x^{3}}{L^{2}}\\right)^{2}}{h^{6} \\left(3 b_{f} + 2 b_{w}\\right)^{2}} + \\frac{4800 P_{max}^{2} \\left(- L + \\frac{3 x^{2}}{L} - \\frac{2 x^{3}}{L^{2}}\\right)^{2} \\left(\\frac{b_{w} h^{2}}{8} - \\frac{b_{w} y^{2}}{2} + \\frac{h^{2} \\left(b_{f} - b_{w}\\right)}{16} - \\frac{y^{4} \\left(b_{f} - b_{w}\\right)}{h^{2}}\\right)^{2}}{h^{6} \\left(3 b_{f} + 2 b_{w}\\right)^{2} \\left(\\frac{b_{w}}{2} + \\frac{y^{2} \\left(2 b_{f} - 2 b_{w}\\right)}{h^{2}}\\right)^{2}}$",
            "text/plain": [
              "400*P_max**2*x**2*y**2*(-2*L + 2*x**2/L - x**3/L**2)**2/(h**6*(3*b_f + 2*b_w)**2) + 4800*P_max**2*(-L + 3*x**2/L - 2*x**3/L**2)**2*(b_w*h**2/8 - b_w*y**2/2 + h**2*(b_f - b_w)/16 - y**4*(b_f - b_w)/h**2)**2/(h**6*(3*b_f + 2*b_w)**2*(b_w/2 + y**2*(2*b_f - 2*b_w)/h**2)**2)"
            ]
          },
          "metadata": {}
        }
      ],
      "source": [
        "## Enter your code here\n",
        "\n",
        "Msol   = E*I*diff(usol,x,x)   # Moment\n",
        "Vsol   = E*I*diff(usol,x,x,x) # Shear\n",
        "\n",
        "sigmaxx = Msol*y/I\n",
        "sigmaxy = (Vsol*Q)/(b*I)\n",
        "sigmavm =  sigmaxx**2 + 3*sigmaxy**2\n",
        "\n",
        "\n",
        "display(Msol)\n",
        "display(Vsol)\n",
        "display(sigmaxx)\n",
        "display(sigmaxy)\n",
        "display(sigmavm)\n",
        "## End"
      ],
      "id": "34bceb28"
    },
    {
      "cell_type": "markdown",
      "metadata": {
        "id": "c4x4xKHK9kT1"
      },
      "source": [
        "## Task 7 - Explanation"
      ],
      "id": "c4x4xKHK9kT1"
    },
    {
      "cell_type": "markdown",
      "metadata": {
        "id": "e731e36e"
      },
      "source": [
        "We set both $h$ and $b_\\mathrm{w}$ as optimization variables, we aim to minimize the weight of structure while keeping "
      ],
      "id": "e731e36e"
    },
    {
      "cell_type": "markdown",
      "metadata": {
        "id": "7d58b618"
      },
      "source": [
        "\\begin{equation}\n",
        "\\begin{aligned}\n",
        "\\min_{h,b_\\mathrm{w}} \\quad & \\mathrm{A(y) L \\rho}\\\\\n",
        "\\textrm{s.t.} \\quad & \\sigma_\\mathrm{vm}^2-\\sigma_\\mathrm{y}^2 < 0\\\\\n",
        "& u_\\mathrm{max}-u_\\mathrm{limit} < 0\\\\\n",
        "& b_\\mathrm{min}-b_\\mathrm{w} < 0\\\\\n",
        "& h_\\mathrm{min}-h_\\mathrm{} < 0\\\\\n",
        "\\end{aligned}\n",
        "\\end{equation}\n"
      ],
      "id": "7d58b618"
    },
    {
      "cell_type": "markdown",
      "metadata": {
        "id": "xNbE7OYj9e5A"
      },
      "source": [
        "Explain what each line above means (double click here and type)"
      ],
      "id": "xNbE7OYj9e5A"
    },
    {
      "cell_type": "markdown",
      "metadata": {
        "id": "r7E6SWWf9i3l"
      },
      "source": [
        "## Task 8 - Substitution"
      ],
      "id": "r7E6SWWf9i3l"
    },
    {
      "cell_type": "code",
      "execution_count": null,
      "metadata": {
        "id": "f3180e4e"
      },
      "outputs": [],
      "source": [
        "# Defining parameters\n",
        "valE      = 200e9  # Pa\n",
        "valL      = 15     # m\n",
        "valb_f    = 0.25   # m\n",
        "valp      = -20000 # N/m\n",
        "\n",
        "u_max     = valL/250\n",
        "sigma_y   = 180e6 # Pa\n",
        "\n",
        "h_min     = 0.01 #m\n",
        "h_max     = 0.5 #m\n",
        "\n",
        "b_min     = 0.01 #m\n",
        "b_max     = valb_f #m\n",
        "\n",
        "## Enter your code here\n",
        "uSub       = usol.subs       ([(E,valE),(L,valL),(x,L/2),(P_max,valp),(b_f, valb_f)])\n",
        "\n",
        "sigmaxxSub1 = sigmaxx.subs ([(E,valE),(L,valL),(x,0), (y,h/2),(P_max,valp)])\n",
        "sigmaxySub1 = sigmaxy.subs ([(E,valE),(L,valL),(x,0), (y,h/2),(P_max,valp)])\n",
        "sigmavmSub1 = sigmavm.subs ([(E,valE),(L,valL),(x,0), (y,h/2),(P_max,valp)])\n",
        "\n",
        "sigmaxxSub2 = sigmaxx.subs ([(E,valE),(L,valL),(x,0), (y,0),(P_max,valp)])\n",
        "sigmaxySub2 = sigmaxy.subs ([(E,valE),(L,valL),(x,0), (y,0),(P_max,valp)])\n",
        "sigmavmSub2 = sigmavm.subs  ([(E,valE),(L,valL),(x,0), (y,0),(P_max,valp)])\n",
        "\n",
        "sigmaxxSub3 = sigmaxx.subs ([(E,valE),(L,valL),(x,L/4), (y,h/4),(P_max,valp)])\n",
        "sigmaxySub3 = sigmaxy.subs ([(E,valE),(L,valL),(x,L/4), (y,h/4),(P_max,valp)])\n",
        "sigmavmSub3 = sigmavm.subs  ([(E,valE),(L,valL),(x,L/4), (y,h/4),(P_max,valp)])\n",
        "\n",
        "sigmaxxSub4 = sigmaxx.subs ([(E,valE),(L,valL),(x,L/2), (y,-h/2),(P_max,valp)])\n",
        "sigmaxySub4 = sigmaxy.subs ([(E,valE),(L,valL),(x,L/2), (y,-h/2),(P_max,valp)])\n",
        "sigmavmSub4 = sigmavm.subs  ([(E,valE),(L,valL),(x,L/2), (y,-h/2),(P_max,valp)])\n",
        "\n"
      ],
      "id": "f3180e4e"
    },
    {
      "cell_type": "markdown",
      "metadata": {
        "id": "Ro2XEJ7w9mOx"
      },
      "source": [
        "## Task 9 - Lambdify"
      ],
      "id": "Ro2XEJ7w9mOx"
    },
    {
      "cell_type": "code",
      "execution_count": null,
      "metadata": {
        "id": "26e6f7a3"
      },
      "outputs": [],
      "source": [
        "## Enter your code here\n",
        "uFun       = lambdify([b_w,h], uSub)\n",
        "sigmaxxFun = lambdify([b_w,h], sigmaxxSub4)\n",
        "sigmaxyFun = lambdify([b_w,h], sigmaxySub4)\n",
        "sigmaxxFun = lambdify([b_w,h], sigmavmSub4)\n",
        "# end"
      ],
      "id": "26e6f7a3"
    },
    {
      "cell_type": "markdown",
      "metadata": {
        "id": "bJ6Ah7Fn9nC6"
      },
      "source": [
        "## Task 10"
      ],
      "id": "bJ6Ah7Fn9nC6"
    },
    {
      "cell_type": "code",
      "execution_count": null,
      "metadata": {
        "id": "849cbae4"
      },
      "outputs": [],
      "source": [
        "n = 500\n",
        "\n",
        "var_h   = np.linspace(0.0001, h_max, n)\n",
        "var_b_w = np.linspace(0.0001, b_max, n)\n",
        "\n",
        "## Enter your code here\n",
        "# space them evenly between the minimum and the maximum value, \n",
        "# note that neither can be zero otherwise we have infinity\n",
        "\n",
        "# meshgrid allows us to weave these two variables to arrive at n^2 points for calculation\n",
        "optVar_h, optVar_b = np.meshgrid(val_h, val_bw)\n",
        "\n",
        "# calculate the objective (area), note that we can calculate the volume or the mass by linear scaling (density and length)\n",
        "aNum        = optVar_h*optVar_bw\n",
        "\n",
        "# calculate the difference in displacement between the actual and the maximum allowed\n",
        "uNum        = uFun(optVar_h, optVar_bw)-u_max\n",
        "\n",
        "# calculate the difference in stres between the actual and the maximum allowed\n",
        "sigmaxxNum  = sigmaxxFun(optVar_h, optVar_b)-sigma_y\n",
        "# end\n"
      ],
      "id": "849cbae4"
    },
    {
      "cell_type": "markdown",
      "metadata": {
        "id": "4kekRWlietdg"
      },
      "source": [
        "## Task 11 - plotting"
      ],
      "id": "4kekRWlietdg"
    },
    {
      "cell_type": "code",
      "execution_count": null,
      "metadata": {
        "id": "5jTqcbN3es_M"
      },
      "outputs": [],
      "source": [
        "\n",
        "## Enter your code here\n",
        "\n",
        "# Plot using plt.contourf() to plot the mass objective\n",
        "plt.contourf()\n",
        "\n",
        "# Plot using plt.contour() to plot the constraints (all of them), e.g. plt.contour(x,y,z, 1, cmap='Greys')\n",
        "\n",
        "## End\n",
        "\n",
        "\n",
        "plt.colorbar()\n",
        "\n",
        "\n",
        "plt.plot([0.,   h_max], [h_min,h_min], 'white')\n",
        "plt.plot([b_min,b_min], [0.,   b_max], 'white')\n",
        "\n",
        "plt.xlabel(r'$h$')\n",
        "plt.ylabel(r'$b_w$')\n",
        "\n",
        "plt.xlim([0.,h_max])\n",
        "plt.ylim([0.,b_max])\n",
        "\n",
        "plt.show()"
      ],
      "id": "5jTqcbN3es_M"
    },
    {
      "cell_type": "code",
      "execution_count": null,
      "metadata": {
        "id": "b6jV0sdPVBYd"
      },
      "outputs": [],
      "source": [
        ""
      ],
      "id": "b6jV0sdPVBYd"
    }
  ],
  "metadata": {
    "colab": {
      "collapsed_sections": [],
      "name": "assignment_01_template.ipynb",
      "provenance": [],
      "include_colab_link": true
    },
    "kernelspec": {
      "display_name": "Python 3",
      "language": "python",
      "name": "python3"
    },
    "language_info": {
      "codemirror_mode": {
        "name": "ipython",
        "version": 3
      },
      "file_extension": ".py",
      "mimetype": "text/x-python",
      "name": "python",
      "nbconvert_exporter": "python",
      "pygments_lexer": "ipython3",
      "version": "3.9.9"
    }
  },
  "nbformat": 4,
  "nbformat_minor": 5
}